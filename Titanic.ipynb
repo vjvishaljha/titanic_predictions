{
 "cells": [
  {
   "cell_type": "code",
   "execution_count": 72,
   "metadata": {},
   "outputs": [],
   "source": [
    "#importing the required libraries\n",
    "import numpy as np \n",
    "import pandas as pd"
   ]
  },
  {
   "cell_type": "code",
   "execution_count": 73,
   "metadata": {},
   "outputs": [],
   "source": [
    "train_data=pd.read_csv('titanic_train.csv')"
   ]
  },
  {
   "cell_type": "code",
   "execution_count": 74,
   "metadata": {},
   "outputs": [],
   "source": [
    "test_data=pd.read_csv('titanic_test.csv')"
   ]
  },
  {
   "cell_type": "code",
   "execution_count": 75,
   "metadata": {},
   "outputs": [
    {
     "data": {
      "text/html": [
       "<div>\n",
       "<style scoped>\n",
       "    .dataframe tbody tr th:only-of-type {\n",
       "        vertical-align: middle;\n",
       "    }\n",
       "\n",
       "    .dataframe tbody tr th {\n",
       "        vertical-align: top;\n",
       "    }\n",
       "\n",
       "    .dataframe thead th {\n",
       "        text-align: right;\n",
       "    }\n",
       "</style>\n",
       "<table border=\"1\" class=\"dataframe\">\n",
       "  <thead>\n",
       "    <tr style=\"text-align: right;\">\n",
       "      <th></th>\n",
       "      <th>PassengerId</th>\n",
       "      <th>Survived</th>\n",
       "      <th>Pclass</th>\n",
       "      <th>Name</th>\n",
       "      <th>Sex</th>\n",
       "      <th>Age</th>\n",
       "      <th>SibSp</th>\n",
       "      <th>Parch</th>\n",
       "      <th>Ticket</th>\n",
       "      <th>Fare</th>\n",
       "      <th>Cabin</th>\n",
       "      <th>Embarked</th>\n",
       "    </tr>\n",
       "  </thead>\n",
       "  <tbody>\n",
       "    <tr>\n",
       "      <th>0</th>\n",
       "      <td>1</td>\n",
       "      <td>0</td>\n",
       "      <td>3</td>\n",
       "      <td>Braund, Mr. Owen Harris</td>\n",
       "      <td>male</td>\n",
       "      <td>22.0</td>\n",
       "      <td>1</td>\n",
       "      <td>0</td>\n",
       "      <td>A/5 21171</td>\n",
       "      <td>7.2500</td>\n",
       "      <td>NaN</td>\n",
       "      <td>S</td>\n",
       "    </tr>\n",
       "    <tr>\n",
       "      <th>1</th>\n",
       "      <td>2</td>\n",
       "      <td>1</td>\n",
       "      <td>1</td>\n",
       "      <td>Cumings, Mrs. John Bradley (Florence Briggs Th...</td>\n",
       "      <td>female</td>\n",
       "      <td>38.0</td>\n",
       "      <td>1</td>\n",
       "      <td>0</td>\n",
       "      <td>PC 17599</td>\n",
       "      <td>71.2833</td>\n",
       "      <td>C85</td>\n",
       "      <td>C</td>\n",
       "    </tr>\n",
       "    <tr>\n",
       "      <th>2</th>\n",
       "      <td>3</td>\n",
       "      <td>1</td>\n",
       "      <td>3</td>\n",
       "      <td>Heikkinen, Miss. Laina</td>\n",
       "      <td>female</td>\n",
       "      <td>26.0</td>\n",
       "      <td>0</td>\n",
       "      <td>0</td>\n",
       "      <td>STON/O2. 3101282</td>\n",
       "      <td>7.9250</td>\n",
       "      <td>NaN</td>\n",
       "      <td>S</td>\n",
       "    </tr>\n",
       "    <tr>\n",
       "      <th>3</th>\n",
       "      <td>4</td>\n",
       "      <td>1</td>\n",
       "      <td>1</td>\n",
       "      <td>Futrelle, Mrs. Jacques Heath (Lily May Peel)</td>\n",
       "      <td>female</td>\n",
       "      <td>35.0</td>\n",
       "      <td>1</td>\n",
       "      <td>0</td>\n",
       "      <td>113803</td>\n",
       "      <td>53.1000</td>\n",
       "      <td>C123</td>\n",
       "      <td>S</td>\n",
       "    </tr>\n",
       "    <tr>\n",
       "      <th>4</th>\n",
       "      <td>5</td>\n",
       "      <td>0</td>\n",
       "      <td>3</td>\n",
       "      <td>Allen, Mr. William Henry</td>\n",
       "      <td>male</td>\n",
       "      <td>35.0</td>\n",
       "      <td>0</td>\n",
       "      <td>0</td>\n",
       "      <td>373450</td>\n",
       "      <td>8.0500</td>\n",
       "      <td>NaN</td>\n",
       "      <td>S</td>\n",
       "    </tr>\n",
       "  </tbody>\n",
       "</table>\n",
       "</div>"
      ],
      "text/plain": [
       "   PassengerId  Survived  Pclass  \\\n",
       "0            1         0       3   \n",
       "1            2         1       1   \n",
       "2            3         1       3   \n",
       "3            4         1       1   \n",
       "4            5         0       3   \n",
       "\n",
       "                                                Name     Sex   Age  SibSp  \\\n",
       "0                            Braund, Mr. Owen Harris    male  22.0      1   \n",
       "1  Cumings, Mrs. John Bradley (Florence Briggs Th...  female  38.0      1   \n",
       "2                             Heikkinen, Miss. Laina  female  26.0      0   \n",
       "3       Futrelle, Mrs. Jacques Heath (Lily May Peel)  female  35.0      1   \n",
       "4                           Allen, Mr. William Henry    male  35.0      0   \n",
       "\n",
       "   Parch            Ticket     Fare Cabin Embarked  \n",
       "0      0         A/5 21171   7.2500   NaN        S  \n",
       "1      0          PC 17599  71.2833   C85        C  \n",
       "2      0  STON/O2. 3101282   7.9250   NaN        S  \n",
       "3      0            113803  53.1000  C123        S  \n",
       "4      0            373450   8.0500   NaN        S  "
      ]
     },
     "execution_count": 75,
     "metadata": {},
     "output_type": "execute_result"
    }
   ],
   "source": [
    "#checking the head of train data \n",
    "train_data.head()"
   ]
  },
  {
   "cell_type": "code",
   "execution_count": 76,
   "metadata": {},
   "outputs": [
    {
     "data": {
      "text/html": [
       "<div>\n",
       "<style scoped>\n",
       "    .dataframe tbody tr th:only-of-type {\n",
       "        vertical-align: middle;\n",
       "    }\n",
       "\n",
       "    .dataframe tbody tr th {\n",
       "        vertical-align: top;\n",
       "    }\n",
       "\n",
       "    .dataframe thead th {\n",
       "        text-align: right;\n",
       "    }\n",
       "</style>\n",
       "<table border=\"1\" class=\"dataframe\">\n",
       "  <thead>\n",
       "    <tr style=\"text-align: right;\">\n",
       "      <th></th>\n",
       "      <th>PassengerId</th>\n",
       "      <th>Pclass</th>\n",
       "      <th>Name</th>\n",
       "      <th>Sex</th>\n",
       "      <th>Age</th>\n",
       "      <th>SibSp</th>\n",
       "      <th>Parch</th>\n",
       "      <th>Ticket</th>\n",
       "      <th>Fare</th>\n",
       "      <th>Cabin</th>\n",
       "      <th>Embarked</th>\n",
       "    </tr>\n",
       "  </thead>\n",
       "  <tbody>\n",
       "    <tr>\n",
       "      <th>0</th>\n",
       "      <td>892</td>\n",
       "      <td>3</td>\n",
       "      <td>Kelly, Mr. James</td>\n",
       "      <td>male</td>\n",
       "      <td>34.5</td>\n",
       "      <td>0</td>\n",
       "      <td>0</td>\n",
       "      <td>330911</td>\n",
       "      <td>7.8292</td>\n",
       "      <td>NaN</td>\n",
       "      <td>Q</td>\n",
       "    </tr>\n",
       "    <tr>\n",
       "      <th>1</th>\n",
       "      <td>893</td>\n",
       "      <td>3</td>\n",
       "      <td>Wilkes, Mrs. James (Ellen Needs)</td>\n",
       "      <td>female</td>\n",
       "      <td>47.0</td>\n",
       "      <td>1</td>\n",
       "      <td>0</td>\n",
       "      <td>363272</td>\n",
       "      <td>7.0000</td>\n",
       "      <td>NaN</td>\n",
       "      <td>S</td>\n",
       "    </tr>\n",
       "    <tr>\n",
       "      <th>2</th>\n",
       "      <td>894</td>\n",
       "      <td>2</td>\n",
       "      <td>Myles, Mr. Thomas Francis</td>\n",
       "      <td>male</td>\n",
       "      <td>62.0</td>\n",
       "      <td>0</td>\n",
       "      <td>0</td>\n",
       "      <td>240276</td>\n",
       "      <td>9.6875</td>\n",
       "      <td>NaN</td>\n",
       "      <td>Q</td>\n",
       "    </tr>\n",
       "    <tr>\n",
       "      <th>3</th>\n",
       "      <td>895</td>\n",
       "      <td>3</td>\n",
       "      <td>Wirz, Mr. Albert</td>\n",
       "      <td>male</td>\n",
       "      <td>27.0</td>\n",
       "      <td>0</td>\n",
       "      <td>0</td>\n",
       "      <td>315154</td>\n",
       "      <td>8.6625</td>\n",
       "      <td>NaN</td>\n",
       "      <td>S</td>\n",
       "    </tr>\n",
       "    <tr>\n",
       "      <th>4</th>\n",
       "      <td>896</td>\n",
       "      <td>3</td>\n",
       "      <td>Hirvonen, Mrs. Alexander (Helga E Lindqvist)</td>\n",
       "      <td>female</td>\n",
       "      <td>22.0</td>\n",
       "      <td>1</td>\n",
       "      <td>1</td>\n",
       "      <td>3101298</td>\n",
       "      <td>12.2875</td>\n",
       "      <td>NaN</td>\n",
       "      <td>S</td>\n",
       "    </tr>\n",
       "  </tbody>\n",
       "</table>\n",
       "</div>"
      ],
      "text/plain": [
       "   PassengerId  Pclass                                          Name     Sex  \\\n",
       "0          892       3                              Kelly, Mr. James    male   \n",
       "1          893       3              Wilkes, Mrs. James (Ellen Needs)  female   \n",
       "2          894       2                     Myles, Mr. Thomas Francis    male   \n",
       "3          895       3                              Wirz, Mr. Albert    male   \n",
       "4          896       3  Hirvonen, Mrs. Alexander (Helga E Lindqvist)  female   \n",
       "\n",
       "    Age  SibSp  Parch   Ticket     Fare Cabin Embarked  \n",
       "0  34.5      0      0   330911   7.8292   NaN        Q  \n",
       "1  47.0      1      0   363272   7.0000   NaN        S  \n",
       "2  62.0      0      0   240276   9.6875   NaN        Q  \n",
       "3  27.0      0      0   315154   8.6625   NaN        S  \n",
       "4  22.0      1      1  3101298  12.2875   NaN        S  "
      ]
     },
     "execution_count": 76,
     "metadata": {},
     "output_type": "execute_result"
    }
   ],
   "source": [
    "#checking the head of test data \n",
    "test_data.head()"
   ]
  },
  {
   "cell_type": "code",
   "execution_count": 77,
   "metadata": {},
   "outputs": [],
   "source": [
    "#backward elimation method\n",
    "#to chooses the right number of the observation which contribute in the output"
   ]
  },
  {
   "cell_type": "code",
   "execution_count": 78,
   "metadata": {},
   "outputs": [],
   "source": [
    "#looking for the categorical features and if present converting them \n",
    "new_data=pd.get_dummies(train_data,columns=['Embarked','Sex'],drop_first=True)"
   ]
  },
  {
   "cell_type": "code",
   "execution_count": 79,
   "metadata": {},
   "outputs": [
    {
     "data": {
      "text/html": [
       "<div>\n",
       "<style scoped>\n",
       "    .dataframe tbody tr th:only-of-type {\n",
       "        vertical-align: middle;\n",
       "    }\n",
       "\n",
       "    .dataframe tbody tr th {\n",
       "        vertical-align: top;\n",
       "    }\n",
       "\n",
       "    .dataframe thead th {\n",
       "        text-align: right;\n",
       "    }\n",
       "</style>\n",
       "<table border=\"1\" class=\"dataframe\">\n",
       "  <thead>\n",
       "    <tr style=\"text-align: right;\">\n",
       "      <th></th>\n",
       "      <th>PassengerId</th>\n",
       "      <th>Survived</th>\n",
       "      <th>Pclass</th>\n",
       "      <th>Name</th>\n",
       "      <th>Age</th>\n",
       "      <th>SibSp</th>\n",
       "      <th>Parch</th>\n",
       "      <th>Ticket</th>\n",
       "      <th>Fare</th>\n",
       "      <th>Cabin</th>\n",
       "      <th>Embarked_Q</th>\n",
       "      <th>Embarked_S</th>\n",
       "      <th>Sex_male</th>\n",
       "    </tr>\n",
       "  </thead>\n",
       "  <tbody>\n",
       "    <tr>\n",
       "      <th>0</th>\n",
       "      <td>1</td>\n",
       "      <td>0</td>\n",
       "      <td>3</td>\n",
       "      <td>Braund, Mr. Owen Harris</td>\n",
       "      <td>22.0</td>\n",
       "      <td>1</td>\n",
       "      <td>0</td>\n",
       "      <td>A/5 21171</td>\n",
       "      <td>7.2500</td>\n",
       "      <td>NaN</td>\n",
       "      <td>0</td>\n",
       "      <td>1</td>\n",
       "      <td>1</td>\n",
       "    </tr>\n",
       "    <tr>\n",
       "      <th>1</th>\n",
       "      <td>2</td>\n",
       "      <td>1</td>\n",
       "      <td>1</td>\n",
       "      <td>Cumings, Mrs. John Bradley (Florence Briggs Th...</td>\n",
       "      <td>38.0</td>\n",
       "      <td>1</td>\n",
       "      <td>0</td>\n",
       "      <td>PC 17599</td>\n",
       "      <td>71.2833</td>\n",
       "      <td>C85</td>\n",
       "      <td>0</td>\n",
       "      <td>0</td>\n",
       "      <td>0</td>\n",
       "    </tr>\n",
       "    <tr>\n",
       "      <th>2</th>\n",
       "      <td>3</td>\n",
       "      <td>1</td>\n",
       "      <td>3</td>\n",
       "      <td>Heikkinen, Miss. Laina</td>\n",
       "      <td>26.0</td>\n",
       "      <td>0</td>\n",
       "      <td>0</td>\n",
       "      <td>STON/O2. 3101282</td>\n",
       "      <td>7.9250</td>\n",
       "      <td>NaN</td>\n",
       "      <td>0</td>\n",
       "      <td>1</td>\n",
       "      <td>0</td>\n",
       "    </tr>\n",
       "    <tr>\n",
       "      <th>3</th>\n",
       "      <td>4</td>\n",
       "      <td>1</td>\n",
       "      <td>1</td>\n",
       "      <td>Futrelle, Mrs. Jacques Heath (Lily May Peel)</td>\n",
       "      <td>35.0</td>\n",
       "      <td>1</td>\n",
       "      <td>0</td>\n",
       "      <td>113803</td>\n",
       "      <td>53.1000</td>\n",
       "      <td>C123</td>\n",
       "      <td>0</td>\n",
       "      <td>1</td>\n",
       "      <td>0</td>\n",
       "    </tr>\n",
       "    <tr>\n",
       "      <th>4</th>\n",
       "      <td>5</td>\n",
       "      <td>0</td>\n",
       "      <td>3</td>\n",
       "      <td>Allen, Mr. William Henry</td>\n",
       "      <td>35.0</td>\n",
       "      <td>0</td>\n",
       "      <td>0</td>\n",
       "      <td>373450</td>\n",
       "      <td>8.0500</td>\n",
       "      <td>NaN</td>\n",
       "      <td>0</td>\n",
       "      <td>1</td>\n",
       "      <td>1</td>\n",
       "    </tr>\n",
       "  </tbody>\n",
       "</table>\n",
       "</div>"
      ],
      "text/plain": [
       "   PassengerId  Survived  Pclass  \\\n",
       "0            1         0       3   \n",
       "1            2         1       1   \n",
       "2            3         1       3   \n",
       "3            4         1       1   \n",
       "4            5         0       3   \n",
       "\n",
       "                                                Name   Age  SibSp  Parch  \\\n",
       "0                            Braund, Mr. Owen Harris  22.0      1      0   \n",
       "1  Cumings, Mrs. John Bradley (Florence Briggs Th...  38.0      1      0   \n",
       "2                             Heikkinen, Miss. Laina  26.0      0      0   \n",
       "3       Futrelle, Mrs. Jacques Heath (Lily May Peel)  35.0      1      0   \n",
       "4                           Allen, Mr. William Henry  35.0      0      0   \n",
       "\n",
       "             Ticket     Fare Cabin  Embarked_Q  Embarked_S  Sex_male  \n",
       "0         A/5 21171   7.2500   NaN           0           1         1  \n",
       "1          PC 17599  71.2833   C85           0           0         0  \n",
       "2  STON/O2. 3101282   7.9250   NaN           0           1         0  \n",
       "3            113803  53.1000  C123           0           1         0  \n",
       "4            373450   8.0500   NaN           0           1         1  "
      ]
     },
     "execution_count": 79,
     "metadata": {},
     "output_type": "execute_result"
    }
   ],
   "source": [
    "new_data.head()"
   ]
  },
  {
   "cell_type": "code",
   "execution_count": 80,
   "metadata": {},
   "outputs": [
    {
     "name": "stdout",
     "output_type": "stream",
     "text": [
      "<class 'pandas.core.frame.DataFrame'>\n",
      "RangeIndex: 891 entries, 0 to 890\n",
      "Data columns (total 9 columns):\n",
      "PassengerId    891 non-null int64\n",
      "Pclass         891 non-null int64\n",
      "Age            714 non-null float64\n",
      "SibSp          891 non-null int64\n",
      "Parch          891 non-null int64\n",
      "Fare           891 non-null float64\n",
      "Embarked_Q     891 non-null uint8\n",
      "Embarked_S     891 non-null uint8\n",
      "Sex_male       891 non-null uint8\n",
      "dtypes: float64(2), int64(4), uint8(3)\n",
      "memory usage: 44.5 KB\n"
     ]
    }
   ],
   "source": [
    "#convering the data into x and y \n",
    "X=new_data.drop(['Survived','Name','Ticket','Cabin'],axis=1)\n",
    "y=train_data['Survived']\n",
    "X.info()"
   ]
  },
  {
   "cell_type": "code",
   "execution_count": 81,
   "metadata": {},
   "outputs": [],
   "source": [
    "#backward elimination\n",
    "from statsmodels.formula.api import OLS"
   ]
  },
  {
   "cell_type": "code",
   "execution_count": 82,
   "metadata": {},
   "outputs": [],
   "source": [
    "#importing the libraries to test for missing data \n",
    "import matplotlib.pyplot as plt\n",
    "import seaborn as sns\n",
    "%matplotlib inline"
   ]
  },
  {
   "cell_type": "code",
   "execution_count": 83,
   "metadata": {},
   "outputs": [
    {
     "data": {
      "text/plain": [
       "<matplotlib.axes._subplots.AxesSubplot at 0x2703e129048>"
      ]
     },
     "execution_count": 83,
     "metadata": {},
     "output_type": "execute_result"
    },
    {
     "data": {
      "image/png": "[encoded data removed]",
      "text/plain": [
       "<Figure size 432x288 with 1 Axes>"
      ]
     },
     "metadata": {
      "needs_background": "light"
     },
     "output_type": "display_data"
    }
   ],
   "source": [
    "sns.heatmap(X.isnull(),yticklabels=False,cbar=False,cmap='viridis')"
   ]
  },
  {
   "cell_type": "code",
   "execution_count": 84,
   "metadata": {},
   "outputs": [],
   "source": [
    "import seaborn as sns"
   ]
  },
  {
   "cell_type": "code",
   "execution_count": 85,
   "metadata": {},
   "outputs": [],
   "source": [
    "def converter(data):\n",
    "    if pd.isnull(data):\n",
    "        return X['Age'].mean()\n",
    "    else:\n",
    "        return data"
   ]
  },
  {
   "cell_type": "code",
   "execution_count": 86,
   "metadata": {},
   "outputs": [],
   "source": [
    "X['Age']=X['Age'].apply(converter)"
   ]
  },
  {
   "cell_type": "code",
   "execution_count": 87,
   "metadata": {},
   "outputs": [
    {
     "data": {
      "text/plain": [
       "<matplotlib.axes._subplots.AxesSubplot at 0x2703e16f2b0>"
      ]
     },
     "execution_count": 87,
     "metadata": {},
     "output_type": "execute_result"
    },
    {
     "data": {
      "image/png": "[encoded data removed]",
      "text/plain": [
       "<Figure size 432x288 with 1 Axes>"
      ]
     },
     "metadata": {
      "needs_background": "light"
     },
     "output_type": "display_data"
    }
   ],
   "source": [
    "sns.heatmap(X.isnull(),yticklabels=False,cbar=False,cmap='viridis')"
   ]
  },
  {
   "cell_type": "code",
   "execution_count": 88,
   "metadata": {},
   "outputs": [],
   "source": [
    "X_optimal=X.iloc[:,[0,1,2,3,4,5,6,7,8]]"
   ]
  },
  {
   "cell_type": "code",
   "execution_count": 89,
   "metadata": {},
   "outputs": [],
   "source": [
    "model_ols=OLS(endog=y,exog= X_optimal.astype(float)).fit()"
   ]
  },
  {
   "cell_type": "code",
   "execution_count": 90,
   "metadata": {},
   "outputs": [
    {
     "name": "stdout",
     "output_type": "stream",
     "text": [
      "                            OLS Regression Results                            \n",
      "==============================================================================\n",
      "Dep. Variable:               Survived   R-squared:                       0.500\n",
      "Model:                            OLS   Adj. R-squared:                  0.495\n",
      "Method:                 Least Squares   F-statistic:                     98.18\n",
      "Date:                Sat, 10 Nov 2018   Prob (F-statistic):          1.67e-126\n",
      "Time:                        20:53:45   Log-Likelihood:                -528.49\n",
      "No. Observations:                 891   AIC:                             1075.\n",
      "Df Residuals:                     882   BIC:                             1118.\n",
      "Df Model:                           9                                         \n",
      "Covariance Type:            nonrobust                                         \n",
      "===============================================================================\n",
      "                  coef    std err          t      P>|t|      [0.025      0.975]\n",
      "-------------------------------------------------------------------------------\n",
      "PassengerId     0.0003   5.52e-05      4.683      0.000       0.000       0.000\n",
      "Pclass          0.0855      0.016      5.308      0.000       0.054       0.117\n",
      "Age             0.0052      0.001      5.107      0.000       0.003       0.007\n",
      "SibSp          -0.0336      0.015     -2.213      0.027      -0.063      -0.004\n",
      "Parch          -0.0054      0.021     -0.257      0.797      -0.047       0.036\n",
      "Fare            0.0032      0.000      9.851      0.000       0.003       0.004\n",
      "Embarked_Q      0.0916      0.064      1.435      0.152      -0.034       0.217\n",
      "Embarked_S      0.1058      0.038      2.772      0.006       0.031       0.181\n",
      "Sex_male       -0.4446      0.033    -13.663      0.000      -0.508      -0.381\n",
      "==============================================================================\n",
      "Omnibus:                       48.622   Durbin-Watson:                   1.897\n",
      "Prob(Omnibus):                  0.000   Jarque-Bera (JB):               43.543\n",
      "Skew:                           0.476   Prob(JB):                     3.50e-10\n",
      "Kurtosis:                       2.484   Cond. No.                     2.39e+03\n",
      "==============================================================================\n",
      "\n",
      "Warnings:\n",
      "[1] Standard Errors assume that the covariance matrix of the errors is correctly specified.\n",
      "[2] The condition number is large, 2.39e+03. This might indicate that there are\n",
      "strong multicollinearity or other numerical problems.\n"
     ]
    }
   ],
   "source": [
    "print(model_ols.summary())"
   ]
  },
  {
   "cell_type": "code",
   "execution_count": 91,
   "metadata": {},
   "outputs": [
    {
     "name": "stdout",
     "output_type": "stream",
     "text": [
      "                            OLS Regression Results                            \n",
      "==============================================================================\n",
      "Dep. Variable:               Survived   R-squared:                       0.500\n",
      "Model:                            OLS   Adj. R-squared:                  0.496\n",
      "Method:                 Least Squares   F-statistic:                     110.6\n",
      "Date:                Sat, 10 Nov 2018   Prob (F-statistic):          1.59e-127\n",
      "Time:                        20:53:46   Log-Likelihood:                -528.53\n",
      "No. Observations:                 891   AIC:                             1073.\n",
      "Df Residuals:                     883   BIC:                             1111.\n",
      "Df Model:                           8                                         \n",
      "Covariance Type:            nonrobust                                         \n",
      "===============================================================================\n",
      "                  coef    std err          t      P>|t|      [0.025      0.975]\n",
      "-------------------------------------------------------------------------------\n",
      "PassengerId     0.0003   5.51e-05      4.679      0.000       0.000       0.000\n",
      "Pclass          0.0848      0.016      5.351      0.000       0.054       0.116\n",
      "Age             0.0052      0.001      5.135      0.000       0.003       0.007\n",
      "SibSp          -0.0349      0.014     -2.448      0.015      -0.063      -0.007\n",
      "Fare            0.0032      0.000     10.060      0.000       0.003       0.004\n",
      "Embarked_Q      0.0925      0.064      1.452      0.147      -0.032       0.217\n",
      "Embarked_S      0.1052      0.038      2.762      0.006       0.030       0.180\n",
      "Sex_male       -0.4428      0.032    -13.920      0.000      -0.505      -0.380\n",
      "==============================================================================\n",
      "Omnibus:                       47.716   Durbin-Watson:                   1.897\n",
      "Prob(Omnibus):                  0.000   Jarque-Bera (JB):               42.588\n",
      "Skew:                           0.470   Prob(JB):                     5.65e-10\n",
      "Kurtosis:                       2.486   Cond. No.                     2.38e+03\n",
      "==============================================================================\n",
      "\n",
      "Warnings:\n",
      "[1] Standard Errors assume that the covariance matrix of the errors is correctly specified.\n",
      "[2] The condition number is large, 2.38e+03. This might indicate that there are\n",
      "strong multicollinearity or other numerical problems.\n"
     ]
    }
   ],
   "source": [
    "X_optimal=X.iloc[:,[0,1,2,3,5,6,7,8]]\n",
    "model_ols=OLS(endog=y,exog= X_optimal.astype(float)).fit()\n",
    "print(model_ols.summary())"
   ]
  },
  {
   "cell_type": "code",
   "execution_count": 92,
   "metadata": {},
   "outputs": [
    {
     "name": "stdout",
     "output_type": "stream",
     "text": [
      "                            OLS Regression Results                            \n",
      "==============================================================================\n",
      "Dep. Variable:               Survived   R-squared:                       0.499\n",
      "Model:                            OLS   Adj. R-squared:                  0.495\n",
      "Method:                 Least Squares   F-statistic:                     125.9\n",
      "Date:                Sat, 10 Nov 2018   Prob (F-statistic):          3.88e-128\n",
      "Time:                        20:53:46   Log-Likelihood:                -529.59\n",
      "No. Observations:                 891   AIC:                             1073.\n",
      "Df Residuals:                     884   BIC:                             1107.\n",
      "Df Model:                           7                                         \n",
      "Covariance Type:            nonrobust                                         \n",
      "===============================================================================\n",
      "                  coef    std err          t      P>|t|      [0.025      0.975]\n",
      "-------------------------------------------------------------------------------\n",
      "PassengerId     0.0003   5.51e-05      4.697      0.000       0.000       0.000\n",
      "Pclass          0.0948      0.014      6.647      0.000       0.067       0.123\n",
      "Age             0.0054      0.001      5.446      0.000       0.003       0.007\n",
      "SibSp          -0.0345      0.014     -2.418      0.016      -0.062      -0.006\n",
      "Fare            0.0032      0.000     10.001      0.000       0.003       0.004\n",
      "Embarked_S      0.0762      0.032      2.348      0.019       0.013       0.140\n",
      "Sex_male       -0.4456      0.032    -14.026      0.000      -0.508      -0.383\n",
      "==============================================================================\n",
      "Omnibus:                       48.696   Durbin-Watson:                   1.895\n",
      "Prob(Omnibus):                  0.000   Jarque-Bera (JB):               42.317\n",
      "Skew:                           0.463   Prob(JB):                     6.47e-10\n",
      "Kurtosis:                       2.468   Cond. No.                     1.21e+03\n",
      "==============================================================================\n",
      "\n",
      "Warnings:\n",
      "[1] Standard Errors assume that the covariance matrix of the errors is correctly specified.\n",
      "[2] The condition number is large, 1.21e+03. This might indicate that there are\n",
      "strong multicollinearity or other numerical problems.\n"
     ]
    }
   ],
   "source": [
    "X_optimal=X.iloc[:,[0,1,2,3,5,7,8]]\n",
    "model_ols=OLS(endog=y,exog= X_optimal.astype(float)).fit()\n",
    "print(model_ols.summary())"
   ]
  },
  {
   "cell_type": "code",
   "execution_count": 93,
   "metadata": {},
   "outputs": [],
   "source": [
    "#final dataset which contains only thoese coulumn who have some impact on the final result\n",
    "final_X=X.drop('Parch',axis=1)\n",
    "y=train_data['Survived']"
   ]
  },
  {
   "cell_type": "code",
   "execution_count": 94,
   "metadata": {},
   "outputs": [
    {
     "data": {
      "text/html": [
       "<div>\n",
       "<style scoped>\n",
       "    .dataframe tbody tr th:only-of-type {\n",
       "        vertical-align: middle;\n",
       "    }\n",
       "\n",
       "    .dataframe tbody tr th {\n",
       "        vertical-align: top;\n",
       "    }\n",
       "\n",
       "    .dataframe thead th {\n",
       "        text-align: right;\n",
       "    }\n",
       "</style>\n",
       "<table border=\"1\" class=\"dataframe\">\n",
       "  <thead>\n",
       "    <tr style=\"text-align: right;\">\n",
       "      <th></th>\n",
       "      <th>PassengerId</th>\n",
       "      <th>Pclass</th>\n",
       "      <th>Age</th>\n",
       "      <th>SibSp</th>\n",
       "      <th>Fare</th>\n",
       "      <th>Embarked_Q</th>\n",
       "      <th>Embarked_S</th>\n",
       "      <th>Sex_male</th>\n",
       "    </tr>\n",
       "  </thead>\n",
       "  <tbody>\n",
       "    <tr>\n",
       "      <th>0</th>\n",
       "      <td>1</td>\n",
       "      <td>3</td>\n",
       "      <td>22.0</td>\n",
       "      <td>1</td>\n",
       "      <td>7.2500</td>\n",
       "      <td>0</td>\n",
       "      <td>1</td>\n",
       "      <td>1</td>\n",
       "    </tr>\n",
       "    <tr>\n",
       "      <th>1</th>\n",
       "      <td>2</td>\n",
       "      <td>1</td>\n",
       "      <td>38.0</td>\n",
       "      <td>1</td>\n",
       "      <td>71.2833</td>\n",
       "      <td>0</td>\n",
       "      <td>0</td>\n",
       "      <td>0</td>\n",
       "    </tr>\n",
       "    <tr>\n",
       "      <th>2</th>\n",
       "      <td>3</td>\n",
       "      <td>3</td>\n",
       "      <td>26.0</td>\n",
       "      <td>0</td>\n",
       "      <td>7.9250</td>\n",
       "      <td>0</td>\n",
       "      <td>1</td>\n",
       "      <td>0</td>\n",
       "    </tr>\n",
       "    <tr>\n",
       "      <th>3</th>\n",
       "      <td>4</td>\n",
       "      <td>1</td>\n",
       "      <td>35.0</td>\n",
       "      <td>1</td>\n",
       "      <td>53.1000</td>\n",
       "      <td>0</td>\n",
       "      <td>1</td>\n",
       "      <td>0</td>\n",
       "    </tr>\n",
       "    <tr>\n",
       "      <th>4</th>\n",
       "      <td>5</td>\n",
       "      <td>3</td>\n",
       "      <td>35.0</td>\n",
       "      <td>0</td>\n",
       "      <td>8.0500</td>\n",
       "      <td>0</td>\n",
       "      <td>1</td>\n",
       "      <td>1</td>\n",
       "    </tr>\n",
       "  </tbody>\n",
       "</table>\n",
       "</div>"
      ],
      "text/plain": [
       "   PassengerId  Pclass   Age  SibSp     Fare  Embarked_Q  Embarked_S  Sex_male\n",
       "0            1       3  22.0      1   7.2500           0           1         1\n",
       "1            2       1  38.0      1  71.2833           0           0         0\n",
       "2            3       3  26.0      0   7.9250           0           1         0\n",
       "3            4       1  35.0      1  53.1000           0           1         0\n",
       "4            5       3  35.0      0   8.0500           0           1         1"
      ]
     },
     "execution_count": 94,
     "metadata": {},
     "output_type": "execute_result"
    }
   ],
   "source": [
    "final_X.head()"
   ]
  },
  {
   "cell_type": "code",
   "execution_count": 95,
   "metadata": {},
   "outputs": [],
   "source": [
    "#diving the data into train and test\n",
    "from sklearn.model_selection import train_test_split"
   ]
  },
  {
   "cell_type": "code",
   "execution_count": 96,
   "metadata": {},
   "outputs": [],
   "source": [
    "X_train, X_test, y_train, y_test = train_test_split(final_X, y, test_size=0.33,)"
   ]
  },
  {
   "cell_type": "code",
   "execution_count": 97,
   "metadata": {},
   "outputs": [],
   "source": [
    "#scaling the data \n",
    "from sklearn.preprocessing import StandardScaler"
   ]
  },
  {
   "cell_type": "code",
   "execution_count": 98,
   "metadata": {},
   "outputs": [],
   "source": [
    "scaler=StandardScaler()"
   ]
  },
  {
   "cell_type": "code",
   "execution_count": 99,
   "metadata": {},
   "outputs": [
    {
     "name": "stderr",
     "output_type": "stream",
     "text": [
      "C:\\Users\\Vishal\\Anaconda3\\envs\\tensorflow_env\\lib\\site-packages\\sklearn\\preprocessing\\data.py:617: DataConversionWarning: Data with input dtype uint8, int64, float64 were all converted to float64 by StandardScaler.\n",
      "  return self.partial_fit(X, y)\n",
      "C:\\Users\\Vishal\\Anaconda3\\envs\\tensorflow_env\\lib\\site-packages\\sklearn\\base.py:462: DataConversionWarning: Data with input dtype uint8, int64, float64 were all converted to float64 by StandardScaler.\n",
      "  return self.fit(X, **fit_params).transform(X)\n"
     ]
    }
   ],
   "source": [
    "#scaling the test data \n",
    "X_test=scaler.fit_transform(X_test)"
   ]
  },
  {
   "cell_type": "code",
   "execution_count": 100,
   "metadata": {},
   "outputs": [
    {
     "name": "stderr",
     "output_type": "stream",
     "text": [
      "C:\\Users\\Vishal\\Anaconda3\\envs\\tensorflow_env\\lib\\site-packages\\ipykernel_launcher.py:2: DataConversionWarning: Data with input dtype uint8, int64, float64 were all converted to float64 by StandardScaler.\n",
      "  \n"
     ]
    }
   ],
   "source": [
    "#scaling the train data\n",
    "X_train=scaler.transform(X_train)"
   ]
  },
  {
   "cell_type": "code",
   "execution_count": 101,
   "metadata": {},
   "outputs": [],
   "source": [
    "#importing the keras library for impleting the Artificial Neural Network\n",
    "import keras"
   ]
  },
  {
   "cell_type": "code",
   "execution_count": 102,
   "metadata": {},
   "outputs": [],
   "source": [
    "#importing the libraries required for the implemention of the ANN\n",
    "#Sequential - to initialise the ANN\n",
    "#Dense-for creating a layer in the ANN\n",
    "from keras.models import Sequential\n",
    "from keras.layers import Dense"
   ]
  },
  {
   "cell_type": "code",
   "execution_count": 103,
   "metadata": {},
   "outputs": [],
   "source": [
    "#initialising the ANN\n",
    "model=Sequential()"
   ]
  },
  {
   "cell_type": "code",
   "execution_count": 104,
   "metadata": {},
   "outputs": [],
   "source": [
    "#Adding the input layer in the ANN\n",
    "model.add(Dense(units=5,kernel_initializer='uniform',activation='relu',input_dim=8))"
   ]
  },
  {
   "cell_type": "code",
   "execution_count": 105,
   "metadata": {},
   "outputs": [],
   "source": [
    "#Adding the first hidden layer in the ANN\n",
    "model.add(Dense(units=5,kernel_initializer='uniform',activation='relu'))"
   ]
  },
  {
   "cell_type": "code",
   "execution_count": 106,
   "metadata": {},
   "outputs": [],
   "source": [
    "#Adding the Output layer in the ANN\n",
    "model.add(Dense(units=1,kernel_initializer='uniform',activation='sigmoid'))\n"
   ]
  },
  {
   "cell_type": "code",
   "execution_count": 107,
   "metadata": {},
   "outputs": [],
   "source": [
    "#Compiling the ANN using the compile function and adding the required parameters\n",
    "model.compile(optimizer='adam',loss='binary_crossentropy',metrics=['accuracy'])"
   ]
  },
  {
   "cell_type": "code",
   "execution_count": 108,
   "metadata": {},
   "outputs": [
    {
     "name": "stdout",
     "output_type": "stream",
     "text": [
      "Epoch 1/100\n",
      "596/596 [==============================] - 1s 1ms/step - loss: 0.6916 - acc: 0.5923\n",
      "Epoch 2/100\n",
      "596/596 [==============================] - 0s 194us/step - loss: 0.6816 - acc: 0.6091\n",
      "Epoch 3/100\n",
      "596/596 [==============================] - 0s 221us/step - loss: 0.6531 - acc: 0.7114\n",
      "Epoch 4/100\n",
      "596/596 [==============================] - 0s 194us/step - loss: 0.6054 - acc: 0.7785\n",
      "Epoch 5/100\n",
      "596/596 [==============================] - 0s 205us/step - loss: 0.5580 - acc: 0.7718\n",
      "Epoch 6/100\n",
      "596/596 [==============================] - 0s 221us/step - loss: 0.5266 - acc: 0.7735\n",
      "Epoch 7/100\n",
      "596/596 [==============================] - 0s 221us/step - loss: 0.5090 - acc: 0.7735\n",
      "Epoch 8/100\n",
      "596/596 [==============================] - 0s 194us/step - loss: 0.4979 - acc: 0.7752\n",
      "Epoch 9/100\n",
      "596/596 [==============================] - 0s 168us/step - loss: 0.4906 - acc: 0.7718\n",
      "Epoch 10/100\n",
      "596/596 [==============================] - 0s 205us/step - loss: 0.4849 - acc: 0.7735\n",
      "Epoch 11/100\n",
      "596/596 [==============================] - 0s 168us/step - loss: 0.4808 - acc: 0.7685\n",
      "Epoch 12/100\n",
      "596/596 [==============================] - 0s 168us/step - loss: 0.4770 - acc: 0.7701\n",
      "Epoch 13/100\n",
      "596/596 [==============================] - 0s 221us/step - loss: 0.4738 - acc: 0.7836\n",
      "Epoch 14/100\n",
      "596/596 [==============================] - 0s 195us/step - loss: 0.4711 - acc: 0.7752\n",
      "Epoch 15/100\n",
      "596/596 [==============================] - 0s 194us/step - loss: 0.4680 - acc: 0.7802\n",
      "Epoch 16/100\n",
      "596/596 [==============================] - 0s 205us/step - loss: 0.4668 - acc: 0.7836\n",
      "Epoch 17/100\n",
      "596/596 [==============================] - 0s 194us/step - loss: 0.4652 - acc: 0.7802\n",
      "Epoch 18/100\n",
      "596/596 [==============================] - 0s 168us/step - loss: 0.4636 - acc: 0.7836\n",
      "Epoch 19/100\n",
      "596/596 [==============================] - 0s 247us/step - loss: 0.4626 - acc: 0.7869\n",
      "Epoch 20/100\n",
      "596/596 [==============================] - 0s 194us/step - loss: 0.4612 - acc: 0.7836\n",
      "Epoch 21/100\n",
      "596/596 [==============================] - 0s 232us/step - loss: 0.4604 - acc: 0.7886\n",
      "Epoch 22/100\n",
      "596/596 [==============================] - 0s 194us/step - loss: 0.4591 - acc: 0.7852\n",
      "Epoch 23/100\n",
      "596/596 [==============================] - 0s 168us/step - loss: 0.4580 - acc: 0.7869\n",
      "Epoch 24/100\n",
      "596/596 [==============================] - 0s 168us/step - loss: 0.4568 - acc: 0.7886\n",
      "Epoch 25/100\n",
      "596/596 [==============================] - 0s 168us/step - loss: 0.4563 - acc: 0.7953\n",
      "Epoch 26/100\n",
      "596/596 [==============================] - 0s 168us/step - loss: 0.4550 - acc: 0.7869\n",
      "Epoch 27/100\n",
      "596/596 [==============================] - 0s 168us/step - loss: 0.4543 - acc: 0.7886\n",
      "Epoch 28/100\n",
      "596/596 [==============================] - 0s 168us/step - loss: 0.4541 - acc: 0.7852 0s - loss: 0.4640 - acc: 0.791\n",
      "Epoch 29/100\n",
      "596/596 [==============================] - 0s 168us/step - loss: 0.4532 - acc: 0.7970\n",
      "Epoch 30/100\n",
      "596/596 [==============================] - 0s 168us/step - loss: 0.4520 - acc: 0.7953\n",
      "Epoch 31/100\n",
      "596/596 [==============================] - 0s 194us/step - loss: 0.4519 - acc: 0.7903\n",
      "Epoch 32/100\n",
      "596/596 [==============================] - 0s 142us/step - loss: 0.4511 - acc: 0.7886\n",
      "Epoch 33/100\n",
      "596/596 [==============================] - 0s 168us/step - loss: 0.4505 - acc: 0.7936\n",
      "Epoch 34/100\n",
      "596/596 [==============================] - 0s 168us/step - loss: 0.4505 - acc: 0.7970\n",
      "Epoch 35/100\n",
      "596/596 [==============================] - 0s 168us/step - loss: 0.4498 - acc: 0.7936\n",
      "Epoch 36/100\n",
      "596/596 [==============================] - 0s 168us/step - loss: 0.4492 - acc: 0.7970\n",
      "Epoch 37/100\n",
      "596/596 [==============================] - 0s 194us/step - loss: 0.4492 - acc: 0.7919\n",
      "Epoch 38/100\n",
      "596/596 [==============================] - 0s 168us/step - loss: 0.4482 - acc: 0.7953\n",
      "Epoch 39/100\n",
      "596/596 [==============================] - 0s 194us/step - loss: 0.4484 - acc: 0.7936\n",
      "Epoch 40/100\n",
      "596/596 [==============================] - 0s 168us/step - loss: 0.4479 - acc: 0.7936\n",
      "Epoch 41/100\n",
      "596/596 [==============================] - 0s 168us/step - loss: 0.4478 - acc: 0.7953\n",
      "Epoch 42/100\n",
      "596/596 [==============================] - 0s 168us/step - loss: 0.4475 - acc: 0.7987\n",
      "Epoch 43/100\n",
      "596/596 [==============================] - 0s 205us/step - loss: 0.4483 - acc: 0.7869\n",
      "Epoch 44/100\n",
      "596/596 [==============================] - 0s 168us/step - loss: 0.4467 - acc: 0.7970\n",
      "Epoch 45/100\n",
      "596/596 [==============================] - 0s 168us/step - loss: 0.4465 - acc: 0.7903\n",
      "Epoch 46/100\n",
      "596/596 [==============================] - 0s 168us/step - loss: 0.4466 - acc: 0.7936\n",
      "Epoch 47/100\n",
      "596/596 [==============================] - 0s 168us/step - loss: 0.4462 - acc: 0.7936\n",
      "Epoch 48/100\n",
      "596/596 [==============================] - 0s 168us/step - loss: 0.4460 - acc: 0.7953\n",
      "Epoch 49/100\n",
      "596/596 [==============================] - 0s 168us/step - loss: 0.4455 - acc: 0.7987\n",
      "Epoch 50/100\n",
      "596/596 [==============================] - 0s 194us/step - loss: 0.4452 - acc: 0.7936\n",
      "Epoch 51/100\n",
      "596/596 [==============================] - 0s 195us/step - loss: 0.4450 - acc: 0.7936\n",
      "Epoch 52/100\n",
      "596/596 [==============================] - 0s 194us/step - loss: 0.4451 - acc: 0.7970\n",
      "Epoch 53/100\n",
      "596/596 [==============================] - 0s 221us/step - loss: 0.4452 - acc: 0.7987\n",
      "Epoch 54/100\n",
      "596/596 [==============================] - 0s 142us/step - loss: 0.4448 - acc: 0.7953\n",
      "Epoch 55/100\n",
      "596/596 [==============================] - 0s 168us/step - loss: 0.4441 - acc: 0.7987\n",
      "Epoch 56/100\n",
      "596/596 [==============================] - 0s 168us/step - loss: 0.4437 - acc: 0.7987\n",
      "Epoch 57/100\n",
      "596/596 [==============================] - 0s 142us/step - loss: 0.4439 - acc: 0.7936\n",
      "Epoch 58/100\n",
      "596/596 [==============================] - 0s 142us/step - loss: 0.4442 - acc: 0.7953\n",
      "Epoch 59/100\n",
      "596/596 [==============================] - 0s 116us/step - loss: 0.4438 - acc: 0.8020\n",
      "Epoch 60/100\n",
      "596/596 [==============================] - 0s 194us/step - loss: 0.4443 - acc: 0.7953\n",
      "Epoch 61/100\n",
      "596/596 [==============================] - 0s 168us/step - loss: 0.4435 - acc: 0.7987\n",
      "Epoch 62/100\n",
      "596/596 [==============================] - 0s 142us/step - loss: 0.4427 - acc: 0.7970\n",
      "Epoch 63/100\n",
      "596/596 [==============================] - 0s 131us/step - loss: 0.4429 - acc: 0.8003\n",
      "Epoch 64/100\n",
      "596/596 [==============================] - 0s 142us/step - loss: 0.4424 - acc: 0.8054\n",
      "Epoch 65/100\n",
      "596/596 [==============================] - 0s 168us/step - loss: 0.4422 - acc: 0.8020\n",
      "Epoch 66/100\n",
      "596/596 [==============================] - 0s 142us/step - loss: 0.4422 - acc: 0.8003\n",
      "Epoch 67/100\n",
      "596/596 [==============================] - 0s 142us/step - loss: 0.4417 - acc: 0.8003\n",
      "Epoch 68/100\n",
      "596/596 [==============================] - 0s 142us/step - loss: 0.4419 - acc: 0.7953\n",
      "Epoch 69/100\n",
      "596/596 [==============================] - 0s 142us/step - loss: 0.4415 - acc: 0.7987\n",
      "Epoch 70/100\n",
      "596/596 [==============================] - 0s 142us/step - loss: 0.4420 - acc: 0.7953\n",
      "Epoch 71/100\n",
      "596/596 [==============================] - 0s 157us/step - loss: 0.4413 - acc: 0.8003\n",
      "Epoch 72/100\n",
      "596/596 [==============================] - 0s 168us/step - loss: 0.4409 - acc: 0.8003\n",
      "Epoch 73/100\n",
      "596/596 [==============================] - 0s 116us/step - loss: 0.4415 - acc: 0.8020\n",
      "Epoch 74/100\n",
      "596/596 [==============================] - 0s 142us/step - loss: 0.4407 - acc: 0.8037\n",
      "Epoch 75/100\n",
      "596/596 [==============================] - 0s 142us/step - loss: 0.4401 - acc: 0.7987\n",
      "Epoch 76/100\n",
      "596/596 [==============================] - 0s 142us/step - loss: 0.4401 - acc: 0.8020\n",
      "Epoch 77/100\n",
      "596/596 [==============================] - 0s 142us/step - loss: 0.4400 - acc: 0.8037\n",
      "Epoch 78/100\n",
      "596/596 [==============================] - 0s 157us/step - loss: 0.4400 - acc: 0.8020\n",
      "Epoch 79/100\n",
      "596/596 [==============================] - 0s 168us/step - loss: 0.4405 - acc: 0.8020\n",
      "Epoch 80/100\n",
      "596/596 [==============================] - 0s 116us/step - loss: 0.4400 - acc: 0.8070\n",
      "Epoch 81/100\n",
      "596/596 [==============================] - 0s 168us/step - loss: 0.4404 - acc: 0.8037\n",
      "Epoch 82/100\n",
      "596/596 [==============================] - 0s 142us/step - loss: 0.4394 - acc: 0.8054\n",
      "Epoch 83/100\n"
     ]
    },
    {
     "name": "stdout",
     "output_type": "stream",
     "text": [
      "596/596 [==============================] - 0s 142us/step - loss: 0.4395 - acc: 0.8070\n",
      "Epoch 84/100\n",
      "596/596 [==============================] - 0s 116us/step - loss: 0.4387 - acc: 0.8070\n",
      "Epoch 85/100\n",
      "596/596 [==============================] - 0s 105us/step - loss: 0.4388 - acc: 0.8054\n",
      "Epoch 86/100\n",
      "596/596 [==============================] - 0s 116us/step - loss: 0.4388 - acc: 0.8003\n",
      "Epoch 87/100\n",
      "596/596 [==============================] - 0s 116us/step - loss: 0.4389 - acc: 0.8020\n",
      "Epoch 88/100\n",
      "596/596 [==============================] - 0s 79us/step - loss: 0.4387 - acc: 0.8054\n",
      "Epoch 89/100\n",
      "596/596 [==============================] - 0s 116us/step - loss: 0.4385 - acc: 0.8037\n",
      "Epoch 90/100\n",
      "596/596 [==============================] - 0s 105us/step - loss: 0.4379 - acc: 0.8121\n",
      "Epoch 91/100\n",
      "596/596 [==============================] - 0s 90us/step - loss: 0.4381 - acc: 0.8037\n",
      "Epoch 92/100\n",
      "596/596 [==============================] - 0s 105us/step - loss: 0.4379 - acc: 0.8070\n",
      "Epoch 93/100\n",
      "596/596 [==============================] - 0s 90us/step - loss: 0.4378 - acc: 0.8070\n",
      "Epoch 94/100\n",
      "596/596 [==============================] - 0s 116us/step - loss: 0.4372 - acc: 0.8138\n",
      "Epoch 95/100\n",
      "596/596 [==============================] - 0s 79us/step - loss: 0.4373 - acc: 0.8070\n",
      "Epoch 96/100\n",
      "596/596 [==============================] - 0s 116us/step - loss: 0.4367 - acc: 0.8037\n",
      "Epoch 97/100\n",
      "596/596 [==============================] - 0s 116us/step - loss: 0.4368 - acc: 0.8037\n",
      "Epoch 98/100\n",
      "596/596 [==============================] - 0s 79us/step - loss: 0.4369 - acc: 0.8104\n",
      "Epoch 99/100\n",
      "596/596 [==============================] - 0s 116us/step - loss: 0.4362 - acc: 0.8087\n",
      "Epoch 100/100\n",
      "596/596 [==============================] - 0s 105us/step - loss: 0.4365 - acc: 0.8037\n"
     ]
    },
    {
     "data": {
      "text/plain": [
       "<keras.callbacks.History at 0x2703e237e10>"
      ]
     },
     "execution_count": 108,
     "metadata": {},
     "output_type": "execute_result"
    }
   ],
   "source": [
    "#fitting the model to our data \n",
    "model.fit(X_train,y_train,batch_size=10,epochs=100)"
   ]
  },
  {
   "cell_type": "code",
   "execution_count": 113,
   "metadata": {},
   "outputs": [],
   "source": [
    "#making predictions from the model\n",
    "predict=model.predict(X_test)"
   ]
  },
  {
   "cell_type": "code",
   "execution_count": 110,
   "metadata": {},
   "outputs": [],
   "source": [
    "    \n",
    "from sklearn.metrics import classification_report,confusion_matrix"
   ]
  },
  {
   "cell_type": "code",
   "execution_count": 111,
   "metadata": {},
   "outputs": [
    {
     "name": "stdout",
     "output_type": "stream",
     "text": [
      "[[176  16]\n",
      " [ 24  79]]\n"
     ]
    }
   ],
   "source": [
    "predict=(predict>0.5)\n",
    "print(confusion_matrix(y_test,predict))"
   ]
  },
  {
   "cell_type": "code",
   "execution_count": 112,
   "metadata": {},
   "outputs": [
    {
     "name": "stdout",
     "output_type": "stream",
     "text": [
      "              precision    recall  f1-score   support\n",
      "\n",
      "           0       0.88      0.92      0.90       192\n",
      "           1       0.83      0.77      0.80       103\n",
      "\n",
      "   micro avg       0.86      0.86      0.86       295\n",
      "   macro avg       0.86      0.84      0.85       295\n",
      "weighted avg       0.86      0.86      0.86       295\n",
      "\n"
     ]
    }
   ],
   "source": [
    "print(classification_report(y_test,predict))"
   ]
  },
  {
   "cell_type": "markdown",
   "metadata": {},
   "source": [
    "#The accuracy of the ann model can be further increased by parameter tunning or by adding more hidden layer in our ANN model"
   ]
  },
  {
   "cell_type": "code",
   "execution_count": null,
   "metadata": {},
   "outputs": [],
   "source": []
  },
  {
   "cell_type": "code",
   "execution_count": null,
   "metadata": {},
   "outputs": [],
   "source": []
  },
  {
   "cell_type": "code",
   "execution_count": null,
   "metadata": {},
   "outputs": [],
   "source": []
  },
  {
   "cell_type": "code",
   "execution_count": null,
   "metadata": {},
   "outputs": [],
   "source": []
  },
  {
   "cell_type": "code",
   "execution_count": null,
   "metadata": {},
   "outputs": [],
   "source": []
  }
 ],
 "metadata": {
  "kernelspec": {
   "display_name": "Python 3",
   "language": "python",
   "name": "python3"
  },
  "language_info": {
   "codemirror_mode": {
    "name": "ipython",
    "version": 3
   },
   "file_extension": ".py",
   "mimetype": "text/x-python",
   "name": "python",
   "nbconvert_exporter": "python",
   "pygments_lexer": "ipython3",
   "version": "3.6.7"
  }
 },
 "nbformat": 4,
 "nbformat_minor": 2
}
